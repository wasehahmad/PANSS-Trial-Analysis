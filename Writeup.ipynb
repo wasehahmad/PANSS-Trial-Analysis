{
 "cells": [
  {
   "cell_type": "markdown",
   "metadata": {},
   "source": [
    "### Treatment Effect\n",
    "When evaluating the treatement effect based on this set of data, we can utilize the changes in the PANSS score and compare the changes in the score over time relative to the control group. <br/>\n",
    "\n",
    "The data is aggregated from the first four trials (A-D). **PANSS** scores is utilized to calculate the response variable. First, the diff for each PANSS-score is calculated per patient, relative to the patient's previous visits. Next, the data is grouped per patient and then the diff is averaged. This results in the average of the PANSS-score changes for each patient. This becomes the response variable in the hypothesis. The final equation used is shown below, as well as the hypothesis.\n",
    "\n",
    "$$PANSS\\_Total_{avg} = B_0 + B_1Treatment$$\n",
    "$$H_0:B_1 = 0$$\n",
    "$$H_A:B_1 \\neq 0$$\n",
    "\n",
    "If there is a treatement affect, we would be able to reject the null hypothesis."
   ]
  },
  {
   "cell_type": "markdown",
   "metadata": {},
   "source": []
  },
  {
   "cell_type": "markdown",
   "metadata": {},
   "source": []
  },
  {
   "cell_type": "markdown",
   "metadata": {},
   "source": []
  },
  {
   "cell_type": "markdown",
   "metadata": {},
   "source": []
  }
 ],
 "metadata": {
  "kernelspec": {
   "display_name": "Python 3",
   "language": "python",
   "name": "python3"
  },
  "language_info": {
   "codemirror_mode": {
    "name": "ipython",
    "version": 3
   },
   "file_extension": ".py",
   "mimetype": "text/x-python",
   "name": "python",
   "nbconvert_exporter": "python",
   "pygments_lexer": "ipython3",
   "version": "3.7.3"
  }
 },
 "nbformat": 4,
 "nbformat_minor": 2
}
