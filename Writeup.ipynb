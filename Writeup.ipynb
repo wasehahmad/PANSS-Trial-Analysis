{
 "cells": [
  {
   "cell_type": "markdown",
   "metadata": {},
   "source": [
    "### Treatment Effect\n",
    "Aggregated data from A-D trials<br/>\n",
    "Correlation matrix showed high correlation between 'Country', 'PatientID','RaterID', as implicit in the data. <br/>\n",
    "Calculated difference in PANSS_Total for each successive visit for the trials <br/>\n",
    "Regressed the difference on the treatment as well as combinationof different variables including 'VisitDay' and 'PatientID' (factorized) <br/>\n",
    "No statistical significance found <br/>"
   ]
  }
 ],
 "metadata": {
  "kernelspec": {
   "display_name": "Python 3",
   "language": "python",
   "name": "python3"
  },
  "language_info": {
   "codemirror_mode": {
    "name": "ipython",
    "version": 3
   },
   "file_extension": ".py",
   "mimetype": "text/x-python",
   "name": "python",
   "nbconvert_exporter": "python",
   "pygments_lexer": "ipython3",
   "version": "3.7.3"
  }
 },
 "nbformat": 4,
 "nbformat_minor": 2
}
