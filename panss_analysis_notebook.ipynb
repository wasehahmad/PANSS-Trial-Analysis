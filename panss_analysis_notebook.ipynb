{
 "cells": [
  {
   "cell_type": "markdown",
   "metadata": {},
   "source": [
    "### STATS 202 \n",
    "Waseh Ahmad\n",
    "Summer 2019"
   ]
  },
  {
   "cell_type": "code",
   "execution_count": 1,
   "metadata": {
    "collapsed": false
   },
   "outputs": [
    {
     "data": {
      "application/javascript": [
       "IPython.OutputArea.prototype._should_scroll = function(lines) {\n",
       "    return false;\n",
       "}"
      ],
      "text/plain": [
       "<IPython.core.display.Javascript object>"
      ]
     },
     "metadata": {},
     "output_type": "display_data"
    }
   ],
   "source": [
    "%%javascript\n",
    "IPython.OutputArea.prototype._should_scroll = function(lines) {\n",
    "    return false;\n",
    "}"
   ]
  },
  {
   "cell_type": "code",
   "execution_count": 2,
   "metadata": {
    "collapsed": false
   },
   "outputs": [
    {
     "name": "stderr",
     "output_type": "stream",
     "text": [
      "/home/waseh95ahmad/anaconda3/lib/python3.5/site-packages/sklearn/utils/fixes.py:313: FutureWarning: numpy not_equal will not check object identity in the future. The comparison did not return the same result as suggested by the identity (`is`)) and will change.\n",
      "  _nan_object_mask = _nan_object_array != _nan_object_array\n"
     ]
    }
   ],
   "source": [
    "#import statements\n",
    "# import matplotlib.pyplot as plt\n",
    "# from matplotlib.colors import Colormap\n",
    "import random\n",
    "import matplotlib\n",
    "matplotlib.use('Agg') # set the backend before importing pyplot\n",
    "\n",
    "import matplotlib.pyplot as plt # etc. etc.\n",
    "\n",
    "from matplotlib.colors import Colormap\n",
    "import pandas as pd\n",
    "import seaborn as sns\n",
    "import statsmodels.api as sm\n",
    "import statsmodels.formula.api as smf\n",
    "import numpy as np\n",
    "import warnings\n",
    "import sklearn\n",
    "from scipy import stats\n",
    "from sklearn.discriminant_analysis import LinearDiscriminantAnalysis\n",
    "from sklearn.discriminant_analysis import QuadraticDiscriminantAnalysis\n",
    "from sklearn.neighbors import KNeighborsClassifier\n",
    "from sklearn.model_selection import train_test_split,LeaveOneOut,cross_validate, GridSearchCV\n",
    "from sklearn import linear_model, kernel_ridge\n",
    "from statsmodels.graphics.gofplots import ProbPlot\n",
    "from scipy.cluster import hierarchy\n",
    "from sklearn.preprocessing import normalize, scale, PolynomialFeatures\n",
    "from sklearn.cluster import AgglomerativeClustering,KMeans\n",
    "from sklearn.pipeline import Pipeline\n",
    "from sklearn.ensemble import BaggingRegressor, GradientBoostingRegressor, RandomForestRegressor\n",
    "from sklearn.feature_selection import RFE \n",
    "from sklearn.tree import DecisionTreeRegressor\n",
    "import xgboost as xgb\n",
    "import patsy\n",
    "import library\n",
    "from mpl_toolkits.mplot3d import Axes3D\n",
    "\n",
    "\n",
    "warnings.filterwarnings('ignore')"
   ]
  },
  {
   "cell_type": "markdown",
   "metadata": {},
   "source": [
    "### Load Data and variables"
   ]
  },
  {
   "cell_type": "code",
   "execution_count": 3,
   "metadata": {
    "collapsed": true
   },
   "outputs": [],
   "source": [
    "#load all studies\n",
    "files = ['Study_A.csv','Study_B.csv','Study_C.csv','Study_D.csv','Study_E.csv']\n",
    "trials = []\n",
    "for file in files:\n",
    "    trials.append(pd.read_csv(file))\n",
    "    \n",
    "allTrialsDF = pd.concat(trials)\n",
    "\n",
    "#ERROR value in 'Country' variable needs to be corrected\n",
    "#60014 --> USA\n",
    "#60025 --> Russia\n",
    "allTrialsDF['Country'][(allTrialsDF.Country == \"ERROR\") & (allTrialsDF.SiteID==60014)] = \"USA\"\n",
    "allTrialsDF['Country'][(allTrialsDF.Country == \"ERROR\") & (allTrialsDF.SiteID==60025)] = \"RUSSIA\"\n",
    "\n",
    "\n",
    "#Create dummy variables for Study\n",
    "allTrialsDF['TxGroup'] = pd.factorize(allTrialsDF.TxGroup)[0]\n",
    "countryDummies = pd.get_dummies(allTrialsDF.Country,drop_first=True,prefix='Country')\n",
    "studyDummies = pd.get_dummies(allTrialsDF.Study,drop_first=True,prefix='Study')\n",
    "allTrialsDF = allTrialsDF.drop(['Country','Study'],axis=1)\n",
    "\n",
    "allTrialsDF = pd.concat([allTrialsDF,countryDummies,studyDummies],axis=1)\n"
   ]
  },
  {
   "cell_type": "code",
   "execution_count": 4,
   "metadata": {
    "collapsed": true
   },
   "outputs": [],
   "source": [
    "#get ids of the users for whom we need to make predictions/classification\n",
    "submissionIDs = pd.read_csv(\"sample_submission_PANSS.csv\").PatientID"
   ]
  },
  {
   "cell_type": "code",
   "execution_count": 5,
   "metadata": {
    "collapsed": true
   },
   "outputs": [],
   "source": [
    "# add variables for lag, diff, sums of (p,n,g)\n",
    "\n",
    "#sort the data by patient and visits\n",
    "allSortedDF = allTrialsDF.sort_values(['PatientID', 'VisitDay'], ascending=[True, True]).reset_index().drop(['index'],axis=1)\n",
    "\n",
    "# Add relative visit day variable\n",
    "for name,group in allSortedDF.groupby('PatientID').__iter__():\n",
    "    idx = 0\n",
    "    for row_index,row in group.iterrows():\n",
    "        allSortedDF.at[row_index,'RelativeVisitDay'] = idx\n",
    "        idx+=1\n",
    "\n",
    "#get sum of Ps,Ns,Gs\n",
    "Ps=['P1', 'P2', 'P3', 'P4', 'P5','P6', 'P7']\n",
    "Gs=['G1','G2', 'G3', 'G4', 'G5', 'G6', 'G7', 'G8', 'G9', 'G10', 'G11', 'G12', 'G13', 'G14', 'G15','G16']\n",
    "Ns=['N1', 'N2', 'N3', 'N4', 'N5', 'N6', 'N7']\n",
    "allSortedDF['Ps'] = allSortedDF[Ps].sum(axis=1)\n",
    "allSortedDF['Gs'] = allSortedDF[Gs].sum(axis=1)\n",
    "allSortedDF['Ns'] = allSortedDF[Ns].sum(axis=1)\n",
    "\n",
    "#diff of PANSS_Total\n",
    "allSortedDF['PANSS_Total_diff_1'] = allSortedDF.groupby('PatientID')['PANSS_Total'].diff().fillna(0)\n",
    "\n",
    "#get first lags for PANSS, Ps, Gs, Ns\n",
    "for col in ['Ps','Ns','Gs','PANSS_Total']:\n",
    "    newCol = col+\"_lag_1\"\n",
    "    allSortedDF[newCol] = allSortedDF.groupby('PatientID')[col].shift(1)"
   ]
  },
  {
   "cell_type": "code",
   "execution_count": 6,
   "metadata": {
    "collapsed": false
   },
   "outputs": [
    {
     "data": {
      "text/plain": [
       "Index(['AssessmentiD', 'G1', 'G10', 'G11', 'G12', 'G13', 'G14', 'G15', 'G16',\n",
       "       'G2', 'G3', 'G4', 'G5', 'G6', 'G7', 'G8', 'G9', 'LeadStatus', 'N1',\n",
       "       'N2', 'N3', 'N4', 'N5', 'N6', 'N7', 'P1', 'P2', 'P3', 'P4', 'P5', 'P6',\n",
       "       'P7', 'PANSS_Total', 'PatientID', 'RaterID', 'SiteID', 'TxGroup',\n",
       "       'VisitDay', 'Country_Australia', 'Country_Austria', 'Country_Belgium',\n",
       "       'Country_Brazil', 'Country_Bulgaria', 'Country_Canada', 'Country_China',\n",
       "       'Country_Czech Republic', 'Country_France', 'Country_Germany',\n",
       "       'Country_Greece', 'Country_Hungary', 'Country_India', 'Country_Japan',\n",
       "       'Country_Korea', 'Country_Mexico', 'Country_Poland', 'Country_Portugal',\n",
       "       'Country_RUSSIA', 'Country_Romania', 'Country_Russia',\n",
       "       'Country_Slovakia', 'Country_Spain', 'Country_Sweden', 'Country_Taiwan',\n",
       "       'Country_UK', 'Country_USA', 'Country_Ukraine', 'Study_B', 'Study_C',\n",
       "       'Study_D', 'Study_E', 'RelativeVisitDay', 'Ps', 'Gs', 'Ns',\n",
       "       'PANSS_Total_diff_1', 'Ps_lag_1', 'Ns_lag_1', 'Gs_lag_1',\n",
       "       'PANSS_Total_lag_1'],\n",
       "      dtype='object')"
      ]
     },
     "execution_count": 6,
     "metadata": {},
     "output_type": "execute_result"
    }
   ],
   "source": [
    "allSortedDF.columns"
   ]
  },
  {
   "cell_type": "code",
   "execution_count": 7,
   "metadata": {
    "collapsed": false
   },
   "outputs": [
    {
     "data": {
      "text/html": [
       "<table class=\"simpletable\">\n",
       "<caption>OLS Regression Results</caption>\n",
       "<tr>\n",
       "  <th>Dep. Variable:</th>       <td>PANSS_Total</td>   <th>  R-squared:         </th> <td>   0.332</td> \n",
       "</tr>\n",
       "<tr>\n",
       "  <th>Model:</th>                   <td>OLS</td>       <th>  Adj. R-squared:    </th> <td>   0.332</td> \n",
       "</tr>\n",
       "<tr>\n",
       "  <th>Method:</th>             <td>Least Squares</td>  <th>  F-statistic:       </th> <td>   3791.</td> \n",
       "</tr>\n",
       "<tr>\n",
       "  <th>Date:</th>             <td>Thu, 08 Aug 2019</td> <th>  Prob (F-statistic):</th>  <td>  0.00</td>  \n",
       "</tr>\n",
       "<tr>\n",
       "  <th>Time:</th>                 <td>16:50:41</td>     <th>  Log-Likelihood:    </th> <td> -95232.</td> \n",
       "</tr>\n",
       "<tr>\n",
       "  <th>No. Observations:</th>      <td> 22909</td>      <th>  AIC:               </th> <td>1.905e+05</td>\n",
       "</tr>\n",
       "<tr>\n",
       "  <th>Df Residuals:</th>          <td> 22905</td>      <th>  BIC:               </th> <td>1.905e+05</td>\n",
       "</tr>\n",
       "<tr>\n",
       "  <th>Df Model:</th>              <td>     3</td>      <th>                     </th>     <td> </td>    \n",
       "</tr>\n",
       "<tr>\n",
       "  <th>Covariance Type:</th>      <td>nonrobust</td>    <th>                     </th>     <td> </td>    \n",
       "</tr>\n",
       "</table>\n",
       "<table class=\"simpletable\">\n",
       "<tr>\n",
       "          <td></td>            <th>coef</th>     <th>std err</th>      <th>t</th>      <th>P>|t|</th>  <th>[0.025</th>    <th>0.975]</th>  \n",
       "</tr>\n",
       "<tr>\n",
       "  <th>Intercept</th>        <td>   81.4695</td> <td>    0.200</td> <td>  407.855</td> <td> 0.000</td> <td>   81.078</td> <td>   81.861</td>\n",
       "</tr>\n",
       "<tr>\n",
       "  <th>TxGroup</th>          <td>    0.3672</td> <td>    0.284</td> <td>    1.292</td> <td> 0.197</td> <td>   -0.190</td> <td>    0.924</td>\n",
       "</tr>\n",
       "<tr>\n",
       "  <th>VisitDay</th>         <td>   -0.1161</td> <td>    0.002</td> <td>  -74.809</td> <td> 0.000</td> <td>   -0.119</td> <td>   -0.113</td>\n",
       "</tr>\n",
       "<tr>\n",
       "  <th>TxGroup:VisitDay</th> <td>   -0.0022</td> <td>    0.002</td> <td>   -0.995</td> <td> 0.320</td> <td>   -0.006</td> <td>    0.002</td>\n",
       "</tr>\n",
       "</table>\n",
       "<table class=\"simpletable\">\n",
       "<tr>\n",
       "  <th>Omnibus:</th>       <td>420.844</td> <th>  Durbin-Watson:     </th> <td>   0.440</td> \n",
       "</tr>\n",
       "<tr>\n",
       "  <th>Prob(Omnibus):</th> <td> 0.000</td>  <th>  Jarque-Bera (JB):  </th> <td> 482.151</td> \n",
       "</tr>\n",
       "<tr>\n",
       "  <th>Skew:</th>          <td> 0.289</td>  <th>  Prob(JB):          </th> <td>2.01e-105</td>\n",
       "</tr>\n",
       "<tr>\n",
       "  <th>Kurtosis:</th>      <td> 3.412</td>  <th>  Cond. No.          </th> <td>    470.</td> \n",
       "</tr>\n",
       "</table><br/><br/>Warnings:<br/>[1] Standard Errors assume that the covariance matrix of the errors is correctly specified."
      ],
      "text/plain": [
       "<class 'statsmodels.iolib.summary.Summary'>\n",
       "\"\"\"\n",
       "                            OLS Regression Results                            \n",
       "==============================================================================\n",
       "Dep. Variable:            PANSS_Total   R-squared:                       0.332\n",
       "Model:                            OLS   Adj. R-squared:                  0.332\n",
       "Method:                 Least Squares   F-statistic:                     3791.\n",
       "Date:                Thu, 08 Aug 2019   Prob (F-statistic):               0.00\n",
       "Time:                        16:50:41   Log-Likelihood:                -95232.\n",
       "No. Observations:               22909   AIC:                         1.905e+05\n",
       "Df Residuals:                   22905   BIC:                         1.905e+05\n",
       "Df Model:                           3                                         \n",
       "Covariance Type:            nonrobust                                         \n",
       "====================================================================================\n",
       "                       coef    std err          t      P>|t|      [0.025      0.975]\n",
       "------------------------------------------------------------------------------------\n",
       "Intercept           81.4695      0.200    407.855      0.000      81.078      81.861\n",
       "TxGroup              0.3672      0.284      1.292      0.197      -0.190       0.924\n",
       "VisitDay            -0.1161      0.002    -74.809      0.000      -0.119      -0.113\n",
       "TxGroup:VisitDay    -0.0022      0.002     -0.995      0.320      -0.006       0.002\n",
       "==============================================================================\n",
       "Omnibus:                      420.844   Durbin-Watson:                   0.440\n",
       "Prob(Omnibus):                  0.000   Jarque-Bera (JB):              482.151\n",
       "Skew:                           0.289   Prob(JB):                    2.01e-105\n",
       "Kurtosis:                       3.412   Cond. No.                         470.\n",
       "==============================================================================\n",
       "\n",
       "Warnings:\n",
       "[1] Standard Errors assume that the covariance matrix of the errors is correctly specified.\n",
       "\"\"\""
      ]
     },
     "execution_count": 7,
     "metadata": {},
     "output_type": "execute_result"
    }
   ],
   "source": [
    "formula = \"PANSS_Total ~ TxGroup*VisitDay\"\n",
    "olsModel = smf.ols(formula,data=allSortedDF).fit()\n",
    "olsModel.summary()"
   ]
  },
  {
   "cell_type": "code",
   "execution_count": null,
   "metadata": {
    "collapsed": true
   },
   "outputs": [],
   "source": []
  },
  {
   "cell_type": "markdown",
   "metadata": {},
   "source": [
    "# Patient Segmentation"
   ]
  },
  {
   "cell_type": "code",
   "execution_count": 8,
   "metadata": {
    "collapsed": true
   },
   "outputs": [],
   "source": [
    "firstVisits = allSortedDF.groupby('PatientID').first()[['PANSS_Total','Ps','Gs','Ns']]\n",
    "# normalize the data and create a df out of it\n",
    "firstVisitsScaled = normalize(firstVisits,axis=0)\n",
    "firstVisitsScaledDF = pd.DataFrame(firstVisitsScaled, columns=firstVisits.columns)\n",
    "\n",
    "\n",
    "labels = firstVisits.index.values\n",
    "linked = hierarchy.linkage(firstVisitsScaledDF, 'complete',metric='euclidean')\n"
   ]
  },
  {
   "cell_type": "code",
   "execution_count": 9,
   "metadata": {
    "collapsed": false
   },
   "outputs": [],
   "source": [
    "plt.figure(figsize=(20, 7))  \n",
    "dendrogram = hierarchy.dendrogram(linked,labels=labels)\n",
    "plt.title(\"PatientSegmentation\")\n",
    "plt.axhline(y=0.025, color='r', linestyle='--')\n",
    "plt.show() "
   ]
  },
  {
   "cell_type": "code",
   "execution_count": 10,
   "metadata": {
    "collapsed": false
   },
   "outputs": [],
   "source": [
    "numClusters = 5\n",
    "aggClustering = AgglomerativeClustering(n_clusters=numClusters, affinity='euclidean', linkage='complete')\n",
    "aggClusteringFit = aggClustering.fit_predict(firstVisits)\n",
    "\n",
    "# %matplotlib notebook\n",
    "fig = plt.figure(figsize=(10, 10)) \n",
    "ax = fig.add_subplot(111, projection='3d')\n",
    "\n",
    "img = ax.scatter(firstVisits.Ps,firstVisits.Ns, firstVisits.Gs, c=aggClustering.labels_, cmap='viridis_r', marker='o')\n",
    "# fig.colorbar(img)\n",
    "\n",
    "ax.set_xlabel('P sum')\n",
    "ax.set_ylabel('N sum')\n",
    "ax.set_zlabel('G sum')\n",
    "\n",
    "plt.show()\n"
   ]
  },
  {
   "cell_type": "code",
   "execution_count": null,
   "metadata": {
    "collapsed": true
   },
   "outputs": [],
   "source": []
  },
  {
   "cell_type": "code",
   "execution_count": 11,
   "metadata": {
    "collapsed": false
   },
   "outputs": [],
   "source": [
    "kNNCenters = []\n",
    "#get centers from previous clustering\n",
    "for k in np.unique(aggClusteringFit):\n",
    "    #for each parameter\n",
    "    kthMeans = []\n",
    "    for p in firstVisits.columns:\n",
    "        #compute mean\n",
    "        kthMeans.append(np.mean(firstVisits[p].loc[aggClustering.labels_ == k]))\n",
    "    kNNCenters.append(np.asarray(kthMeans))\n",
    "    \n",
    "kMeansClusters = KMeans(n_clusters=numClusters,init=np.asarray(kNNCenters),random_state=1).fit(firstVisits)\n",
    "\n",
    "#plot\n",
    "fig = plt.figure(figsize=(10, 10)) \n",
    "ax = fig.add_subplot(111, projection='3d')\n",
    "\n",
    "img = ax.scatter(firstVisits.Ps,firstVisits.Ns, firstVisits.Gs, c=kMeansClusters.labels_,cmap='viridis_r', marker='o')\n",
    "# fig.colorbar(img)\n",
    "\n",
    "ax.set_xlabel('P sum')\n",
    "ax.set_ylabel('N sum')\n",
    "ax.set_zlabel('G sum')\n",
    "\n",
    "plt.show()"
   ]
  },
  {
   "cell_type": "code",
   "execution_count": null,
   "metadata": {
    "collapsed": true
   },
   "outputs": [],
   "source": []
  },
  {
   "cell_type": "markdown",
   "metadata": {},
   "source": [
    "# Forecasting"
   ]
  },
  {
   "cell_type": "code",
   "execution_count": 12,
   "metadata": {
    "collapsed": true
   },
   "outputs": [],
   "source": [
    "#divide set into training and test data\n",
    "\n",
    "#first, get all the possible attributes that we might want\n",
    "studies = list(allSortedDF.columns[allSortedDF.columns.str.startswith(\"Study\")== True])\n",
    "# X = ['TxGroup','VisitDay','RelativeVisitDay','PANSS_Total_lag_1','Ps_lag_1','Gs_lag_1','Ns_lag_1']+studies\n",
    "X = ['TxGroup','RelativeVisitDay','PANSS_Total_lag_1']+studies\n",
    "y = ['PANSS_Total']\n",
    "\n",
    "#remove first visits as we cannot use that to make predictions (there is no previous data on it)\n",
    "removeFirstVisits = allSortedDF.loc[allSortedDF.RelativeVisitDay != 0]\n",
    "\n",
    "\n",
    "xSet = removeFirstVisits[X]\n",
    "ySet = removeFirstVisits[y]\n",
    "xTrain, xTest, yTrain, yTest = train_test_split(xSet, ySet, test_size=0.25, random_state=0)\n",
    "trainDF = pd.concat([xTrain,yTrain],axis=1)"
   ]
  },
  {
   "cell_type": "code",
   "execution_count": 13,
   "metadata": {
    "collapsed": true
   },
   "outputs": [],
   "source": [
    "#try linear regression\n",
    "testMSEs = list()\n",
    "trainMSEs = list()\n",
    "for degree in range(1,7,1):\n",
    "    trainFeatures = PolynomialFeatures(degree).fit_transform(xTrain)\n",
    "    testFeatures = PolynomialFeatures(degree).fit_transform(xTest)\n",
    "    linearModel = linear_model.LinearRegression().fit(trainFeatures,yTrain)\n",
    "    #training MSE\n",
    "    yPredTrainLM = linearModel.predict(trainFeatures)\n",
    "    trainMSEs.append(library.GetMSE(yPredTrainLM,yTrain).values[0])\n",
    "    #Test MSE\n",
    "    yPredTestLM = linearModel.predict(testFeatures)\n",
    "    testMSEs.append(library.GetMSE(yPredTestLM,yTest).values[0])\n"
   ]
  },
  {
   "cell_type": "code",
   "execution_count": 14,
   "metadata": {
    "collapsed": false
   },
   "outputs": [
    {
     "data": {
      "text/plain": [
       "<matplotlib.legend.Legend at 0x7fe9480e2cc0>"
      ]
     },
     "execution_count": 14,
     "metadata": {},
     "output_type": "execute_result"
    }
   ],
   "source": [
    "plt.plot(range(6),trainMSEs,c='red',label='TrainMSE')\n",
    "plt.plot(range(6),testMSEs, c='blue',label='TestMSE')\n",
    "plt.xlabel('Degree')\n",
    "plt.ylabel('MSE')\n",
    "plt.legend(loc='upper left')"
   ]
  },
  {
   "cell_type": "code",
   "execution_count": null,
   "metadata": {
    "collapsed": true
   },
   "outputs": [],
   "source": [
    "# #make the prediction by first making the df for the features being used\n",
    "# inputDF = initialDF.loc[initialDF.PatientID.isin(idsToForecast)]\n",
    "# # groupedDF = pd.DataFrame({'TxGroup':sortedDF.groupby('PatientID').TxGroup.agg(pd.Series.mode),'PANSS_diff_avg':sortedDF.groupby('PatientID').mean().PANSS_Total_diff})\n",
    "# inputDF = inputDF.groupby('PatientID').last()\n",
    "# inputDF.PANSS_Lag1 = inputDF.PANSS_Total \n",
    "# inputDF = inputDF.drop(['PANSS_Total'],axis=1)\n",
    "\n",
    "\n",
    "# yPred = modelFit.predict(inputDF)\n",
    "\n",
    "# submission = pd.DataFrame(yPred)\n",
    "# # submission.to_csv(\"forecast_submit.csv\")\n",
    "\n",
    "# yPredLasso = lassoModelFit.predict(library.InjectFactors(inputDF,factorVars))\n",
    "# submission = pd.DataFrame(yPredLasso)\n",
    "# submission['PatientID'] = idsToForecast\n",
    "# # submission.to_csv(\"forecast_submit_Lasso.csv\",header=['PatientID','PANSS_Total'])"
   ]
  },
  {
   "cell_type": "code",
   "execution_count": null,
   "metadata": {
    "collapsed": true
   },
   "outputs": [],
   "source": []
  },
  {
   "cell_type": "code",
   "execution_count": 39,
   "metadata": {
    "collapsed": true
   },
   "outputs": [],
   "source": [
    "# Bagging approach\n",
    "\n",
    "np.random.seed(5)\n",
    "baseModel = DecisionTreeRegressor(random_state=1,max_leaf_nodes=32)\n",
    "baggingModel = Pipeline([\n",
    "  ('transformation', PolynomialFeatures(1)),\n",
    "  ('feature_selection', RFE(baseModel,n_features_to_select=2)),\n",
    "  ('regression', BaggingRegressor(base_estimator=baseModel,n_estimators=1000))\n",
    "])\n",
    "# baggingModelFit = baggingModel.fit(library.InjectFactors(xTrain,factorVars),yTrain)\n",
    "#run CV on pipeline\n",
    "# scores = cross_validate(baggingModel, PolynomialFeatures(4).fit_transform(library.InjectFactors(xTrain,factorVars)),yTrain, cv=5,scoring='neg_mean_squared_error',return_estimator=True)\n",
    "\n",
    "#degree = 1 has better time with a slightly worse MSE (0.09)\n",
    "param0 = {'transformation__degree':[1,2]}\n",
    "# n_features to select = 2 , for simplicity. not much improvement from more\n",
    "param1 = {'feature_selection__n_features_to_select':[1,2,4,8,16,32]}\n",
    "\n",
    "#max leaf nodes = 16, n_estimators = 1000\n",
    "param2 = {'regression__base_estimator__max_leaf_nodes':[2,4,8,16,32],\n",
    "          'regression__n_estimators':[10,100,1000,3000]}\n",
    "\n",
    "#uncomment the followign line to run the tuning\n",
    "# tuneOutput = GridSearchCV(baggingModel, param2, scoring='neg_mean_squared_error', cv=4).fit(xTrain,yTrain)"
   ]
  },
  {
   "cell_type": "code",
   "execution_count": 40,
   "metadata": {
    "collapsed": false
   },
   "outputs": [
    {
     "data": {
      "text/plain": [
       "<ErrorbarContainer object of 3 artists>"
      ]
     },
     "execution_count": 40,
     "metadata": {},
     "output_type": "execute_result"
    },
    {
     "data": {
      "image/png": "[encoded data removed]",
      "text/plain": [
       "<Figure size 432x288 with 1 Axes>"
      ]
     },
     "metadata": {
      "needs_background": "light"
     },
     "output_type": "display_data"
    }
   ],
   "source": [
    "results = pd.DataFrame(tuneOutput.cv_results_)\n",
    "plt.plot(range(len(results)),np.abs(results.mean_test_score))\n",
    "plt.errorbar(range(len(results)),np.abs(results.mean_test_score),linestyle='None', marker='^')\n",
    "\n",
    "# print(\"Features To select:\"+str(results.iloc[12].param_feature_selection__n_features_to_select))\n",
    "# print(\"Number of Polynomials:\"+str(results.iloc[12].param_transformation__degree))"
   ]
  },
  {
   "cell_type": "code",
   "execution_count": 54,
   "metadata": {
    "collapsed": false
   },
   "outputs": [
    {
     "name": "stdout",
     "output_type": "stream",
     "text": [
      "Train MSE:50.91456156657022\n",
      "Test MSE:54.46099120011082\n"
     ]
    }
   ],
   "source": [
    "baggingModel.set_params(feature_selection__n_features_to_select=2, transformation__degree=1,regression__base_estimator__max_leaf_nodes=16,regression__n_estimators=1000)\n",
    "baggingModelFit = baggingModel.fit(xTrain,yTrain)  \n",
    "yPredTrain = baggingModelFit.predict(xTrain)\n",
    "yPredTest = baggingModelFit.predict(xTest)\n",
    "print(\"Train MSE:\"+str(library.GetMSE(yPredTrain,np.asarray(yTrain.PANSS_Total))))\n",
    "print(\"Test MSE:\"+str(library.GetMSE(yPredTest,np.asarray(yTest.PANSS_Total))))\n"
   ]
  },
  {
   "cell_type": "code",
   "execution_count": null,
   "metadata": {
    "collapsed": true
   },
   "outputs": [],
   "source": []
  },
  {
   "cell_type": "code",
   "execution_count": 37,
   "metadata": {
    "collapsed": true
   },
   "outputs": [],
   "source": [
    "# #create a set of predictions\n",
    "# baggingModelFit = baggingModel.fit(PolynomialFeatures(4).fit_transform(library.InjectFactors(xTrain,factorVars)),yTrain)\n",
    "# predictions = baggingModelFit.predict(PolynomialFeatures(4).fit_transform(library.InjectFactors(inputDF,factorVars)))\n",
    "\n",
    "# submission = pd.DataFrame(predictions)\n",
    "# submission['PatientID'] = idsToForecast\n",
    "# submission.to_csv(\"forecast_submit_Bagging.csv\",header=['PatientID','PANSS_Total'])"
   ]
  },
  {
   "cell_type": "code",
   "execution_count": null,
   "metadata": {
    "collapsed": true
   },
   "outputs": [],
   "source": []
  },
  {
   "cell_type": "code",
   "execution_count": 15,
   "metadata": {
    "collapsed": true
   },
   "outputs": [],
   "source": [
    "# boosting approach\n",
    "\n",
    "max_depth = 3\n",
    "min_child_weight = 10\n",
    "subsample = 0.5\n",
    "colsample_bytree = 0.6\n",
    "objective = 'reg:squarederror'\n",
    "num_estimators = 3000\n",
    "learning_rate = 0.01\n",
    "\n",
    "boostModel = xgb.XGBRegressor(max_depth=max_depth,\n",
    "                min_child_weight=min_child_weight,\n",
    "                subsample=subsample,\n",
    "                colsample_bytree=colsample_bytree,\n",
    "                objective=objective,\n",
    "                n_estimators=num_estimators,\n",
    "                learning_rate=learning_rate)\n",
    "\n",
    "eval_set = [(xTrain, yTrain), (xTest, yTest)]\n",
    "xgbModelFit = boostModel.fit(xTrain, yTrain, eval_set=eval_set, verbose=False)"
   ]
  },
  {
   "cell_type": "code",
   "execution_count": 16,
   "metadata": {
    "collapsed": false
   },
   "outputs": [
    {
     "name": "stdout",
     "output_type": "stream",
     "text": [
      "Train MSE:46.9002237092\n",
      "Test MSE:51.7819561621\n"
     ]
    }
   ],
   "source": [
    "yPredTrain = xgbModelFit.predict(xTrain)\n",
    "yPredTest = xgbModelFit.predict(xTest)\n",
    "\n",
    "print(\"Train MSE:\"+str(library.GetMSE(yPredTrain,np.asarray(yTrain.PANSS_Total))))\n",
    "print(\"Test MSE:\"+str(library.GetMSE(yPredTest,np.asarray(yTest.PANSS_Total))))\n",
    "\n",
    "\n",
    "# predictions = xgbModelFit.predict(inputDFWithCategories)\n",
    "# submission = pd.DataFrame(predictions)\n",
    "# submission['PatientID'] = idsToForecast\n",
    "# submission.to_csv(\"forecast_submit_XGB.csv\",header=['PANSS_Total','PatientID'])"
   ]
  },
  {
   "cell_type": "code",
   "execution_count": 27,
   "metadata": {
    "collapsed": false
   },
   "outputs": [
    {
     "name": "stdout",
     "output_type": "stream",
     "text": [
      "|   iter    |  target   | learni... | max_depth |\n",
      "-------------------------------------------------\n",
      "| \u001b[95m 2       \u001b[0m | \u001b[95m-49.11   \u001b[0m | \u001b[95m 0.004434\u001b[0m | \u001b[95m 6.712   \u001b[0m |\n",
      "| \u001b[95m 3       \u001b[0m | \u001b[95m-48.6    \u001b[0m | \u001b[95m 0.007822\u001b[0m | \u001b[95m 3.636   \u001b[0m |\n",
      "=================================================\n"
     ]
    }
   ],
   "source": [
    "from bayes_opt import BayesianOptimization\n",
    "from sklearn.model_selection import cross_val_score\n",
    "\n",
    "def xgb_cv(max_depth,learning_rate):\n",
    "    model = xgb.XGBRegressor(max_depth=int(max_depth),min_child_weight=5.75,learning_rate=learning_rate,n_estimators=2000,objective='reg:squarederror',seed=1)\n",
    "    cval = cross_val_score(model,xTrain,yTrain,scoring='neg_mean_squared_error',cv=4)\n",
    "    return cval.mean()\n",
    "params={'max_depth':(2,8),'learning_rate':(0.0001,0.01)}\n",
    "optimizer = BayesianOptimization(f=xgb_cv,pbounds=params,random_state=1234,verbose=1)\n",
    "optimizer.maximize(n_iter=10)"
   ]
  },
  {
   "cell_type": "code",
   "execution_count": 17,
   "metadata": {
    "collapsed": false
   },
   "outputs": [
    {
     "ename": "KeyboardInterrupt",
     "evalue": "",
     "output_type": "error",
     "traceback": [
      "\u001b[1;31m---------------------------------------------------------------------------\u001b[0m",
      "\u001b[1;31mKeyboardInterrupt\u001b[0m                         Traceback (most recent call last)",
      "\u001b[1;32m<ipython-input-17-e1eec056b7c9>\u001b[0m in \u001b[0;36m<module>\u001b[1;34m()\u001b[0m\n\u001b[0;32m     27\u001b[0m                                                    objective='reg:squarederror', scale_pos_weight=1, seed=1), \n\u001b[0;32m     28\u001b[0m                         param_grid = params, scoring='neg_mean_squared_error',n_jobs=4,iid=False, cv=5)\n\u001b[1;32m---> 29\u001b[1;33m \u001b[0mxgbGS1Fit\u001b[0m \u001b[1;33m=\u001b[0m \u001b[0mgsearch1\u001b[0m\u001b[1;33m.\u001b[0m\u001b[0mfit\u001b[0m\u001b[1;33m(\u001b[0m\u001b[0mxTrain\u001b[0m\u001b[1;33m,\u001b[0m \u001b[0myTrain\u001b[0m\u001b[1;33m)\u001b[0m\u001b[1;33m\u001b[0m\u001b[0m\n\u001b[0m\u001b[0;32m     30\u001b[0m \u001b[0mxgbGS1Fit\u001b[0m\u001b[1;33m.\u001b[0m\u001b[0mbest_params_\u001b[0m\u001b[1;33m\u001b[0m\u001b[0m\n",
      "\u001b[1;32m/home/waseh95ahmad/anaconda3/lib/python3.5/site-packages/sklearn/model_selection/_search.py\u001b[0m in \u001b[0;36mfit\u001b[1;34m(self, X, y, groups, **fit_params)\u001b[0m\n\u001b[0;32m    720\u001b[0m                 \u001b[1;32mreturn\u001b[0m \u001b[0mresults_container\u001b[0m\u001b[1;33m[\u001b[0m\u001b[1;36m0\u001b[0m\u001b[1;33m]\u001b[0m\u001b[1;33m\u001b[0m\u001b[0m\n\u001b[0;32m    721\u001b[0m \u001b[1;33m\u001b[0m\u001b[0m\n\u001b[1;32m--> 722\u001b[1;33m             \u001b[0mself\u001b[0m\u001b[1;33m.\u001b[0m\u001b[0m_run_search\u001b[0m\u001b[1;33m(\u001b[0m\u001b[0mevaluate_candidates\u001b[0m\u001b[1;33m)\u001b[0m\u001b[1;33m\u001b[0m\u001b[0m\n\u001b[0m\u001b[0;32m    723\u001b[0m \u001b[1;33m\u001b[0m\u001b[0m\n\u001b[0;32m    724\u001b[0m         \u001b[0mresults\u001b[0m \u001b[1;33m=\u001b[0m \u001b[0mresults_container\u001b[0m\u001b[1;33m[\u001b[0m\u001b[1;36m0\u001b[0m\u001b[1;33m]\u001b[0m\u001b[1;33m\u001b[0m\u001b[0m\n",
      "\u001b[1;32m/home/waseh95ahmad/anaconda3/lib/python3.5/site-packages/sklearn/model_selection/_search.py\u001b[0m in \u001b[0;36m_run_search\u001b[1;34m(self, evaluate_candidates)\u001b[0m\n\u001b[0;32m   1189\u001b[0m     \u001b[1;32mdef\u001b[0m \u001b[0m_run_search\u001b[0m\u001b[1;33m(\u001b[0m\u001b[0mself\u001b[0m\u001b[1;33m,\u001b[0m \u001b[0mevaluate_candidates\u001b[0m\u001b[1;33m)\u001b[0m\u001b[1;33m:\u001b[0m\u001b[1;33m\u001b[0m\u001b[0m\n\u001b[0;32m   1190\u001b[0m         \u001b[1;34m\"\"\"Search all candidates in param_grid\"\"\"\u001b[0m\u001b[1;33m\u001b[0m\u001b[0m\n\u001b[1;32m-> 1191\u001b[1;33m         \u001b[0mevaluate_candidates\u001b[0m\u001b[1;33m(\u001b[0m\u001b[0mParameterGrid\u001b[0m\u001b[1;33m(\u001b[0m\u001b[0mself\u001b[0m\u001b[1;33m.\u001b[0m\u001b[0mparam_grid\u001b[0m\u001b[1;33m)\u001b[0m\u001b[1;33m)\u001b[0m\u001b[1;33m\u001b[0m\u001b[0m\n\u001b[0m\u001b[0;32m   1192\u001b[0m \u001b[1;33m\u001b[0m\u001b[0m\n\u001b[0;32m   1193\u001b[0m \u001b[1;33m\u001b[0m\u001b[0m\n",
      "\u001b[1;32m/home/waseh95ahmad/anaconda3/lib/python3.5/site-packages/sklearn/model_selection/_search.py\u001b[0m in \u001b[0;36mevaluate_candidates\u001b[1;34m(candidate_params)\u001b[0m\n\u001b[0;32m    709\u001b[0m                                \u001b[1;32mfor\u001b[0m \u001b[0mparameters\u001b[0m\u001b[1;33m,\u001b[0m \u001b[1;33m(\u001b[0m\u001b[0mtrain\u001b[0m\u001b[1;33m,\u001b[0m \u001b[0mtest\u001b[0m\u001b[1;33m)\u001b[0m\u001b[1;33m\u001b[0m\u001b[0m\n\u001b[0;32m    710\u001b[0m                                in product(candidate_params,\n\u001b[1;32m--> 711\u001b[1;33m                                           cv.split(X, y, groups)))\n\u001b[0m\u001b[0;32m    712\u001b[0m \u001b[1;33m\u001b[0m\u001b[0m\n\u001b[0;32m    713\u001b[0m                 \u001b[0mall_candidate_params\u001b[0m\u001b[1;33m.\u001b[0m\u001b[0mextend\u001b[0m\u001b[1;33m(\u001b[0m\u001b[0mcandidate_params\u001b[0m\u001b[1;33m)\u001b[0m\u001b[1;33m\u001b[0m\u001b[0m\n",
      "\u001b[1;32m/home/waseh95ahmad/anaconda3/lib/python3.5/site-packages/sklearn/externals/joblib/parallel.py\u001b[0m in \u001b[0;36m__call__\u001b[1;34m(self, iterable)\u001b[0m\n\u001b[0;32m    994\u001b[0m \u001b[1;33m\u001b[0m\u001b[0m\n\u001b[0;32m    995\u001b[0m             \u001b[1;32mwith\u001b[0m \u001b[0mself\u001b[0m\u001b[1;33m.\u001b[0m\u001b[0m_backend\u001b[0m\u001b[1;33m.\u001b[0m\u001b[0mretrieval_context\u001b[0m\u001b[1;33m(\u001b[0m\u001b[1;33m)\u001b[0m\u001b[1;33m:\u001b[0m\u001b[1;33m\u001b[0m\u001b[0m\n\u001b[1;32m--> 996\u001b[1;33m                 \u001b[0mself\u001b[0m\u001b[1;33m.\u001b[0m\u001b[0mretrieve\u001b[0m\u001b[1;33m(\u001b[0m\u001b[1;33m)\u001b[0m\u001b[1;33m\u001b[0m\u001b[0m\n\u001b[0m\u001b[0;32m    997\u001b[0m             \u001b[1;31m# Make sure that we get a last message telling us we are done\u001b[0m\u001b[1;33m\u001b[0m\u001b[1;33m\u001b[0m\u001b[0m\n\u001b[0;32m    998\u001b[0m             \u001b[0melapsed_time\u001b[0m \u001b[1;33m=\u001b[0m \u001b[0mtime\u001b[0m\u001b[1;33m.\u001b[0m\u001b[0mtime\u001b[0m\u001b[1;33m(\u001b[0m\u001b[1;33m)\u001b[0m \u001b[1;33m-\u001b[0m \u001b[0mself\u001b[0m\u001b[1;33m.\u001b[0m\u001b[0m_start_time\u001b[0m\u001b[1;33m\u001b[0m\u001b[0m\n",
      "\u001b[1;32m/home/waseh95ahmad/anaconda3/lib/python3.5/site-packages/sklearn/externals/joblib/parallel.py\u001b[0m in \u001b[0;36mretrieve\u001b[1;34m(self)\u001b[0m\n\u001b[0;32m    897\u001b[0m             \u001b[1;32mtry\u001b[0m\u001b[1;33m:\u001b[0m\u001b[1;33m\u001b[0m\u001b[0m\n\u001b[0;32m    898\u001b[0m                 \u001b[1;32mif\u001b[0m \u001b[0mgetattr\u001b[0m\u001b[1;33m(\u001b[0m\u001b[0mself\u001b[0m\u001b[1;33m.\u001b[0m\u001b[0m_backend\u001b[0m\u001b[1;33m,\u001b[0m \u001b[1;34m'supports_timeout'\u001b[0m\u001b[1;33m,\u001b[0m \u001b[1;32mFalse\u001b[0m\u001b[1;33m)\u001b[0m\u001b[1;33m:\u001b[0m\u001b[1;33m\u001b[0m\u001b[0m\n\u001b[1;32m--> 899\u001b[1;33m                     \u001b[0mself\u001b[0m\u001b[1;33m.\u001b[0m\u001b[0m_output\u001b[0m\u001b[1;33m.\u001b[0m\u001b[0mextend\u001b[0m\u001b[1;33m(\u001b[0m\u001b[0mjob\u001b[0m\u001b[1;33m.\u001b[0m\u001b[0mget\u001b[0m\u001b[1;33m(\u001b[0m\u001b[0mtimeout\u001b[0m\u001b[1;33m=\u001b[0m\u001b[0mself\u001b[0m\u001b[1;33m.\u001b[0m\u001b[0mtimeout\u001b[0m\u001b[1;33m)\u001b[0m\u001b[1;33m)\u001b[0m\u001b[1;33m\u001b[0m\u001b[0m\n\u001b[0m\u001b[0;32m    900\u001b[0m                 \u001b[1;32melse\u001b[0m\u001b[1;33m:\u001b[0m\u001b[1;33m\u001b[0m\u001b[0m\n\u001b[0;32m    901\u001b[0m                     \u001b[0mself\u001b[0m\u001b[1;33m.\u001b[0m\u001b[0m_output\u001b[0m\u001b[1;33m.\u001b[0m\u001b[0mextend\u001b[0m\u001b[1;33m(\u001b[0m\u001b[0mjob\u001b[0m\u001b[1;33m.\u001b[0m\u001b[0mget\u001b[0m\u001b[1;33m(\u001b[0m\u001b[1;33m)\u001b[0m\u001b[1;33m)\u001b[0m\u001b[1;33m\u001b[0m\u001b[0m\n",
      "\u001b[1;32m/home/waseh95ahmad/anaconda3/lib/python3.5/site-packages/sklearn/externals/joblib/_parallel_backends.py\u001b[0m in \u001b[0;36mwrap_future_result\u001b[1;34m(future, timeout)\u001b[0m\n\u001b[0;32m    515\u001b[0m         AsyncResults.get from multiprocessing.\"\"\"\n\u001b[0;32m    516\u001b[0m         \u001b[1;32mtry\u001b[0m\u001b[1;33m:\u001b[0m\u001b[1;33m\u001b[0m\u001b[0m\n\u001b[1;32m--> 517\u001b[1;33m             \u001b[1;32mreturn\u001b[0m \u001b[0mfuture\u001b[0m\u001b[1;33m.\u001b[0m\u001b[0mresult\u001b[0m\u001b[1;33m(\u001b[0m\u001b[0mtimeout\u001b[0m\u001b[1;33m=\u001b[0m\u001b[0mtimeout\u001b[0m\u001b[1;33m)\u001b[0m\u001b[1;33m\u001b[0m\u001b[0m\n\u001b[0m\u001b[0;32m    518\u001b[0m         \u001b[1;32mexcept\u001b[0m \u001b[0mLokyTimeoutError\u001b[0m\u001b[1;33m:\u001b[0m\u001b[1;33m\u001b[0m\u001b[0m\n\u001b[0;32m    519\u001b[0m             \u001b[1;32mraise\u001b[0m \u001b[0mTimeoutError\u001b[0m\u001b[1;33m(\u001b[0m\u001b[1;33m)\u001b[0m\u001b[1;33m\u001b[0m\u001b[0m\n",
      "\u001b[1;32m/home/waseh95ahmad/anaconda3/lib/python3.5/concurrent/futures/_base.py\u001b[0m in \u001b[0;36mresult\u001b[1;34m(self, timeout)\u001b[0m\n\u001b[0;32m    398\u001b[0m                 \u001b[1;32mreturn\u001b[0m \u001b[0mself\u001b[0m\u001b[1;33m.\u001b[0m\u001b[0m__get_result\u001b[0m\u001b[1;33m(\u001b[0m\u001b[1;33m)\u001b[0m\u001b[1;33m\u001b[0m\u001b[0m\n\u001b[0;32m    399\u001b[0m \u001b[1;33m\u001b[0m\u001b[0m\n\u001b[1;32m--> 400\u001b[1;33m             \u001b[0mself\u001b[0m\u001b[1;33m.\u001b[0m\u001b[0m_condition\u001b[0m\u001b[1;33m.\u001b[0m\u001b[0mwait\u001b[0m\u001b[1;33m(\u001b[0m\u001b[0mtimeout\u001b[0m\u001b[1;33m)\u001b[0m\u001b[1;33m\u001b[0m\u001b[0m\n\u001b[0m\u001b[0;32m    401\u001b[0m \u001b[1;33m\u001b[0m\u001b[0m\n\u001b[0;32m    402\u001b[0m             \u001b[1;32mif\u001b[0m \u001b[0mself\u001b[0m\u001b[1;33m.\u001b[0m\u001b[0m_state\u001b[0m \u001b[1;32min\u001b[0m \u001b[1;33m[\u001b[0m\u001b[0mCANCELLED\u001b[0m\u001b[1;33m,\u001b[0m \u001b[0mCANCELLED_AND_NOTIFIED\u001b[0m\u001b[1;33m]\u001b[0m\u001b[1;33m:\u001b[0m\u001b[1;33m\u001b[0m\u001b[0m\n",
      "\u001b[1;32m/home/waseh95ahmad/anaconda3/lib/python3.5/threading.py\u001b[0m in \u001b[0;36mwait\u001b[1;34m(self, timeout)\u001b[0m\n\u001b[0;32m    291\u001b[0m         \u001b[1;32mtry\u001b[0m\u001b[1;33m:\u001b[0m    \u001b[1;31m# restore state no matter what (e.g., KeyboardInterrupt)\u001b[0m\u001b[1;33m\u001b[0m\u001b[0m\n\u001b[0;32m    292\u001b[0m             \u001b[1;32mif\u001b[0m \u001b[0mtimeout\u001b[0m \u001b[1;32mis\u001b[0m \u001b[1;32mNone\u001b[0m\u001b[1;33m:\u001b[0m\u001b[1;33m\u001b[0m\u001b[0m\n\u001b[1;32m--> 293\u001b[1;33m                 \u001b[0mwaiter\u001b[0m\u001b[1;33m.\u001b[0m\u001b[0macquire\u001b[0m\u001b[1;33m(\u001b[0m\u001b[1;33m)\u001b[0m\u001b[1;33m\u001b[0m\u001b[0m\n\u001b[0m\u001b[0;32m    294\u001b[0m                 \u001b[0mgotit\u001b[0m \u001b[1;33m=\u001b[0m \u001b[1;32mTrue\u001b[0m\u001b[1;33m\u001b[0m\u001b[0m\n\u001b[0;32m    295\u001b[0m             \u001b[1;32melse\u001b[0m\u001b[1;33m:\u001b[0m\u001b[1;33m\u001b[0m\u001b[0m\n",
      "\u001b[1;31mKeyboardInterrupt\u001b[0m: "
     ]
    }
   ],
   "source": [
    "# tune xgboost\n",
    "#max_depth = int(3.6) learning  = 0.007822\n",
    "#best values found 3,6 respectively\n",
    "param_test1 = {\n",
    " 'max_depth':[2,4,6,8],\n",
    " 'min_child_weight':[2,4,6,8],\n",
    "}\n",
    "#best gamma value found = 0.4\n",
    "param_test2 = {\n",
    " 'gamma':[i/10.0 for i in range(0,5)]\n",
    "}\n",
    "#0.85 and 0.85\n",
    "param_test3 = {\n",
    " 'subsample':[i/10.0 for i in [2,4,6,8,10]],\n",
    " 'colsample_bytree':[i/10.0 for i in [2,4,6,8,10]]\n",
    "}\n",
    "\n",
    "param_test4 = {\n",
    "    'learning_rate':np.logspace(-3,0,7)\n",
    "}\n",
    "params=param_test1\n",
    "params.update(param_test2)\n",
    "params.update(param_test3)\n",
    "\n",
    "gsearch1 = GridSearchCV(estimator=xgb.XGBRegressor(learning_rate =0.01, n_estimators=2000,max_depth=3,min_child_weight=6,\n",
    "                                                   gamma=0.4, subsample=0.85, colsample_bytree=0.85,\n",
    "                                                   objective='reg:squarederror', scale_pos_weight=1, seed=1), \n",
    "                        param_grid = params, scoring='neg_mean_squared_error',n_jobs=4,iid=False, cv=5)\n",
    "xgbGS1Fit = gsearch1.fit(xTrain, yTrain)\n",
    "xgbGS1Fit.best_params_"
   ]
  },
  {
   "cell_type": "code",
   "execution_count": 79,
   "metadata": {
    "collapsed": true
   },
   "outputs": [],
   "source": []
  },
  {
   "cell_type": "code",
   "execution_count": 70,
   "metadata": {
    "collapsed": false
   },
   "outputs": [
    {
     "name": "stdout",
     "output_type": "stream",
     "text": [
      "Train MSE:42.5408039067463\n",
      "Test MSE:51.701516729716985\n"
     ]
    }
   ],
   "source": [
    "xgbModel = xgb.XGBRegressor(learning_rate =0.01, n_estimators=5000,max_depth=3,min_child_weight=6,\n",
    "                                                   gamma=0.4, subsample=0.85, colsample_bytree=0.85,\n",
    "                                                   objective='reg:squarederror', scale_pos_weight=1, seed=1)\n",
    "xgbGS1Fit = xgbModel.fit(xTrain, yTrain)\n",
    "\n",
    "yPredTrain = xgbGS1Fit.predict(xTrain)\n",
    "yPredTest = xgbGS1Fit.predict(xTest)\n",
    "\n",
    "print(\"Train MSE:\"+str(library.GetMSE(yPredTrain,np.asarray(yTrain.PANSS_Total))))\n",
    "print(\"Test MSE:\"+str(library.GetMSE(yPredTest,np.asarray(yTest.PANSS_Total))))"
   ]
  },
  {
   "cell_type": "code",
   "execution_count": 71,
   "metadata": {
    "collapsed": false
   },
   "outputs": [
    {
     "data": {
      "image/png": "[encoded data removed]",
      "text/plain": [
       "<Figure size 432x288 with 1 Axes>"
      ]
     },
     "metadata": {
      "needs_background": "light"
     },
     "output_type": "display_data"
    }
   ],
   "source": [
    "Importance = pd.DataFrame({'Importance':xgbGS1Fit.feature_importances_*100}, index=xTrain.columns)\n",
    "Importance.sort_values('Importance', axis=0, ascending=True).plot(kind='barh', color='r', )\n",
    "plt.xlabel('Variable Importance')\n",
    "plt.gca().legend_ = None"
   ]
  },
  {
   "cell_type": "code",
   "execution_count": 45,
   "metadata": {
    "collapsed": true
   },
   "outputs": [],
   "source": [
    "#make the prediction by first making the df for the features being used\n",
    "extraCols = ['Ps','Ns','Gs','PANSS_Total']\n",
    "submissionXDF = allSortedDF.loc[allSortedDF.PatientID.isin(submissionIDs)][X+['PatientID']+extraCols]\n",
    "submissionXDF = submissionXDF.groupby('PatientID').last()\n",
    "for col in ['Ps','Ns','Gs','PANSS_Total']:\n",
    "    submissionXDF[col] = submissionXDF[col+\"_lag_1\"]\n",
    "submissionXDF = submissionXDF.drop(extraCols,axis=1)\n",
    "\n",
    "# xSet[xSet['PatientID'] in submissionIDs]"
   ]
  },
  {
   "cell_type": "code",
   "execution_count": 51,
   "metadata": {
    "collapsed": true
   },
   "outputs": [],
   "source": [
    "\n",
    "predictions = xgbModelFit.predict(submissionXDF)\n",
    "submission = pd.DataFrame(predictions)\n",
    "submission['PatientID'] = submissionIDs\n",
    "submission.to_csv(\"forecast_submit_XGB.csv\",header=['PANSS_Total','PatientID'])"
   ]
  },
  {
   "cell_type": "code",
   "execution_count": null,
   "metadata": {
    "collapsed": true
   },
   "outputs": [],
   "source": []
  },
  {
   "cell_type": "code",
   "execution_count": null,
   "metadata": {
    "collapsed": true
   },
   "outputs": [],
   "source": []
  },
  {
   "cell_type": "code",
   "execution_count": null,
   "metadata": {
    "collapsed": true
   },
   "outputs": [],
   "source": []
  },
  {
   "cell_type": "code",
   "execution_count": null,
   "metadata": {
    "collapsed": true
   },
   "outputs": [],
   "source": []
  },
  {
   "cell_type": "markdown",
   "metadata": {},
   "source": [
    "### References\n",
    "1.https://www.analyticsvidhya.com/blog/2016/03/complete-guide-parameter-tuning-xgboost-with-codes-python/\n"
   ]
  }
 ],
 "metadata": {
  "kernelspec": {
   "display_name": "Python 3",
   "language": "python",
   "name": "python3"
  },
  "language_info": {
   "codemirror_mode": {
    "name": "ipython",
    "version": 3
   },
   "file_extension": ".py",
   "mimetype": "text/x-python",
   "name": "python",
   "nbconvert_exporter": "python",
   "pygments_lexer": "ipython3",
   "version": "3.5.4"
  }
 },
 "nbformat": 4,
 "nbformat_minor": 2
}
